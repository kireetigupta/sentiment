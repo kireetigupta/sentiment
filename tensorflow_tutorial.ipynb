{
 "cells": [
  {
   "cell_type": "code",
   "execution_count": 2,
   "metadata": {
    "collapsed": true
   },
   "outputs": [],
   "source": [
    "import tensorflow as tf"
   ]
  },
  {
   "cell_type": "code",
   "execution_count": 10,
   "metadata": {
    "collapsed": false
   },
   "outputs": [
    {
     "name": "stdout",
     "output_type": "stream",
     "text": [
      "[32, 128]\n",
      "Tensor(\"Shape_2:0\", shape=(2,), dtype=int32)\n"
     ]
    }
   ],
   "source": [
    "a=tf.placeholder(tf.float32,[None,128])\n",
    "a.set_shape([32,128])\n",
    "print(a.shape.as_list())\n",
    "dynamic_shape=tf.shape(a)\n",
    "print(dynamic_shape)"
   ]
  },
  {
   "cell_type": "code",
   "execution_count": 17,
   "metadata": {
    "collapsed": false
   },
   "outputs": [
    {
     "name": "stdout",
     "output_type": "stream",
     "text": [
      "a_4:0\n",
      "Const_6:0\n",
      "Const_7:0\n",
      "<class 'tensorflow.python.framework.ops.name_scope'>\n"
     ]
    }
   ],
   "source": [
    "a=tf.Variable(1,name=\"a\")\n",
    "print(a.name)\n",
    "b=tf.constant(1)\n",
    "print(b.name)\n",
    "b=tf.constant(1)\n",
    "print(b.name)\n",
    "print(tf.name_scope)"
   ]
  },
  {
   "cell_type": "code",
   "execution_count": 28,
   "metadata": {
    "collapsed": false
   },
   "outputs": [
    {
     "name": "stdout",
     "output_type": "stream",
     "text": [
      "scopeb_9/a:0 scopeb_9/b:0 z:0\n"
     ]
    }
   ],
   "source": [
    "with tf.name_scope(\"scopeb\"):\n",
    "    b=tf.Variable(2,name=\"b\")\n",
    "    a = tf.constant(1,name=\"a\")\n",
    "    z=tf.get_variable(name=\"z\",shape=[])\n",
    "    print(a.name,b.name,z.name)"
   ]
  },
  {
   "cell_type": "code",
   "execution_count": 33,
   "metadata": {
    "collapsed": false
   },
   "outputs": [],
   "source": [
    "with tf.variable_scope(\"scopez\"):\n",
    "  a1 = tf.get_variable(name=\"a\", shape=[])\n",
    "  a2 = tf.get_variable(name=\"b\", shape=[])  # Disallowed"
   ]
  },
  {
   "cell_type": "code",
   "execution_count": 37,
   "metadata": {
    "collapsed": false
   },
   "outputs": [
    {
     "name": "stdout",
     "output_type": "stream",
     "text": [
      "Tensor(\"add_4:0\", shape=(2, 2), dtype=int32)\n"
     ]
    },
    {
     "data": {
      "text/plain": [
       "array([[3, 4],\n",
       "       [3, 4]], dtype=int32)"
      ]
     },
     "execution_count": 37,
     "metadata": {},
     "output_type": "execute_result"
    }
   ],
   "source": [
    "a=tf.constant([[1,2],[3,4]])\n",
    "b=tf.constant([[2],[0]])\n",
    "c=a+b\n",
    "print(a+b)\n",
    "sess=tf.Session()\n",
    "sess.run(c)"
   ]
  },
  {
   "cell_type": "code",
   "execution_count": 52,
   "metadata": {
    "collapsed": false
   },
   "outputs": [
    {
     "name": "stdout",
     "output_type": "stream",
     "text": [
      "[[0.40941584]]\n",
      "[[0.39258003 0.39258003]\n",
      " [0.39258003 0.39258003]]\n"
     ]
    }
   ],
   "source": [
    "sess=tf.Session()\n",
    "a=tf.random_uniform([1,1])\n",
    "b=tf.tile(a,[2,2])\n",
    "print(sess.run(a))\n",
    "print(sess.run(b))\n",
    "\n"
   ]
  }
 ],
 "metadata": {
  "kernelspec": {
   "display_name": "Python 3",
   "language": "python",
   "name": "python3"
  },
  "language_info": {
   "codemirror_mode": {
    "name": "ipython",
    "version": 3
   },
   "file_extension": ".py",
   "mimetype": "text/x-python",
   "name": "python",
   "nbconvert_exporter": "python",
   "pygments_lexer": "ipython3",
   "version": "3.6.0"
  }
 },
 "nbformat": 4,
 "nbformat_minor": 2
}
